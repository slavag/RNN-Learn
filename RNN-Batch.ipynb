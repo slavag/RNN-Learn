{
 "cells": [
  {
   "cell_type": "code",
   "execution_count": 51,
   "id": "2d8ad780",
   "metadata": {},
   "outputs": [],
   "source": [
    "import numpy as np\n",
    "import pandas as pd"
   ]
  },
  {
   "cell_type": "markdown",
   "id": "1855709e",
   "metadata": {},
   "source": [
    "## Load the training data set"
   ]
  },
  {
   "cell_type": "code",
   "execution_count": 52,
   "id": "87b237e8",
   "metadata": {},
   "outputs": [],
   "source": [
    "df = pd.read_csv('training.csv', header=None, names=['domain', 'dga'])"
   ]
  },
  {
   "cell_type": "code",
   "execution_count": 53,
   "id": "8fe793d3",
   "metadata": {},
   "outputs": [
    {
     "data": {
      "text/html": [
       "<div>\n",
       "<style scoped>\n",
       "    .dataframe tbody tr th:only-of-type {\n",
       "        vertical-align: middle;\n",
       "    }\n",
       "\n",
       "    .dataframe tbody tr th {\n",
       "        vertical-align: top;\n",
       "    }\n",
       "\n",
       "    .dataframe thead th {\n",
       "        text-align: right;\n",
       "    }\n",
       "</style>\n",
       "<table border=\"1\" class=\"dataframe\">\n",
       "  <thead>\n",
       "    <tr style=\"text-align: right;\">\n",
       "      <th></th>\n",
       "      <th>domain</th>\n",
       "      <th>dga</th>\n",
       "    </tr>\n",
       "  </thead>\n",
       "  <tbody>\n",
       "    <tr>\n",
       "      <th>0</th>\n",
       "      <td>m644136d0.tmodns.net</td>\n",
       "      <td>0</td>\n",
       "    </tr>\n",
       "    <tr>\n",
       "      <th>1</th>\n",
       "      <td>dfg.ca.gov</td>\n",
       "      <td>0</td>\n",
       "    </tr>\n",
       "    <tr>\n",
       "      <th>2</th>\n",
       "      <td>c4w6wpg81xsbopy8a67.ddns.net</td>\n",
       "      <td>1</td>\n",
       "    </tr>\n",
       "    <tr>\n",
       "      <th>3</th>\n",
       "      <td>ace.ojom-mobile.de</td>\n",
       "      <td>0</td>\n",
       "    </tr>\n",
       "    <tr>\n",
       "      <th>4</th>\n",
       "      <td>pub.3gppnetwork.org.mcdonaldswifi.internal</td>\n",
       "      <td>0</td>\n",
       "    </tr>\n",
       "  </tbody>\n",
       "</table>\n",
       "</div>"
      ],
      "text/plain": [
       "                                       domain  dga\n",
       "0                        m644136d0.tmodns.net    0\n",
       "1                                  dfg.ca.gov    0\n",
       "2                c4w6wpg81xsbopy8a67.ddns.net    1\n",
       "3                          ace.ojom-mobile.de    0\n",
       "4  pub.3gppnetwork.org.mcdonaldswifi.internal    0"
      ]
     },
     "execution_count": 53,
     "metadata": {},
     "output_type": "execute_result"
    }
   ],
   "source": [
    "df.head()"
   ]
  },
  {
   "cell_type": "code",
   "execution_count": 54,
   "id": "b1fe1087",
   "metadata": {},
   "outputs": [
    {
     "data": {
      "text/plain": [
       "dga\n",
       "0    166\n",
       "1     34\n",
       "Name: count, dtype: int64"
      ]
     },
     "execution_count": 54,
     "metadata": {},
     "output_type": "execute_result"
    }
   ],
   "source": [
    "df.dga.value_counts()"
   ]
  },
  {
   "cell_type": "code",
   "execution_count": 55,
   "id": "caa5ccb8",
   "metadata": {},
   "outputs": [
    {
     "data": {
      "text/html": [
       "<div>\n",
       "<style scoped>\n",
       "    .dataframe tbody tr th:only-of-type {\n",
       "        vertical-align: middle;\n",
       "    }\n",
       "\n",
       "    .dataframe tbody tr th {\n",
       "        vertical-align: top;\n",
       "    }\n",
       "\n",
       "    .dataframe thead th {\n",
       "        text-align: right;\n",
       "    }\n",
       "</style>\n",
       "<table border=\"1\" class=\"dataframe\">\n",
       "  <thead>\n",
       "    <tr style=\"text-align: right;\">\n",
       "      <th></th>\n",
       "      <th>domain</th>\n",
       "      <th>dga</th>\n",
       "    </tr>\n",
       "  </thead>\n",
       "  <tbody>\n",
       "    <tr>\n",
       "      <th>0</th>\n",
       "      <td>m644136d0.tmodns.net</td>\n",
       "      <td>0</td>\n",
       "    </tr>\n",
       "    <tr>\n",
       "      <th>1</th>\n",
       "      <td>dfg.ca.gov</td>\n",
       "      <td>0</td>\n",
       "    </tr>\n",
       "    <tr>\n",
       "      <th>2</th>\n",
       "      <td>c4w6wpg81xsbopy8a67.ddns.net</td>\n",
       "      <td>1</td>\n",
       "    </tr>\n",
       "    <tr>\n",
       "      <th>3</th>\n",
       "      <td>ace.ojom-mobile.de</td>\n",
       "      <td>0</td>\n",
       "    </tr>\n",
       "    <tr>\n",
       "      <th>4</th>\n",
       "      <td>pub.3gppnetwork.org.mcdonaldswifi.internal</td>\n",
       "      <td>0</td>\n",
       "    </tr>\n",
       "  </tbody>\n",
       "</table>\n",
       "</div>"
      ],
      "text/plain": [
       "                                       domain  dga\n",
       "0                        m644136d0.tmodns.net    0\n",
       "1                                  dfg.ca.gov    0\n",
       "2                c4w6wpg81xsbopy8a67.ddns.net    1\n",
       "3                          ace.ojom-mobile.de    0\n",
       "4  pub.3gppnetwork.org.mcdonaldswifi.internal    0"
      ]
     },
     "execution_count": 55,
     "metadata": {},
     "output_type": "execute_result"
    }
   ],
   "source": [
    "df.head()"
   ]
  },
  {
   "cell_type": "markdown",
   "id": "6aa4d850",
   "metadata": {},
   "source": [
    "## Feature learning: Use RNN"
   ]
  },
  {
   "cell_type": "markdown",
   "id": "f863660e",
   "metadata": {},
   "source": [
    "First, determine vocabulary and tokenization, from the training data set"
   ]
  },
  {
   "cell_type": "code",
   "execution_count": 56,
   "id": "01d277b8",
   "metadata": {},
   "outputs": [
    {
     "name": "stdout",
     "output_type": "stream",
     "text": [
      "Vocab size 38\n",
      "{'-': 0, '.': 1, '0': 2, '1': 3, '2': 4, '3': 5, '4': 6, '5': 7, '6': 8, '7': 9, '8': 10, '9': 11, 'a': 12, 'b': 13, 'c': 14, 'd': 15, 'e': 16, 'f': 17, 'g': 18, 'h': 19, 'i': 20, 'j': 21, 'k': 22, 'l': 23, 'm': 24, 'n': 25, 'o': 26, 'p': 27, 'q': 28, 'r': 29, 's': 30, 't': 31, 'u': 32, 'v': 33, 'w': 34, 'x': 35, 'y': 36, 'z': 37}\n"
     ]
    }
   ],
   "source": [
    "# build the dataset\n",
    "\n",
    "domains = df.domain.tolist()\n",
    "\n",
    "# get character vocab\n",
    "vocab = sorted(list(set(''.join(domains))))\n",
    "vocab_size = len(vocab)\n",
    "print(f\"Vocab size {vocab_size}\")\n",
    "# dictionaries to convert input characters to tokens and tokens to characters\n",
    "char2token = {s:i for i,s in enumerate(vocab)}\n",
    "token2char = {i:s for s,i in char2token.items()}\n",
    "print(char2token)"
   ]
  },
  {
   "cell_type": "code",
   "execution_count": 57,
   "id": "9870b81c",
   "metadata": {},
   "outputs": [
    {
     "data": {
      "text/plain": [
       "[26, 27, 16, 25, 31, 16, 35, 31, 1, 14, 26, 24]"
      ]
     },
     "execution_count": 57,
     "metadata": {},
     "output_type": "execute_result"
    }
   ],
   "source": [
    "# e.g., the tokenized representation of 'opentext.com' would be\n",
    "[char2token[c] for c in 'test.com']"
   ]
  },
  {
   "cell_type": "code",
   "execution_count": 58,
   "id": "509b1e98",
   "metadata": {},
   "outputs": [],
   "source": [
    "import torch"
   ]
  },
  {
   "cell_type": "code",
   "execution_count": 59,
   "id": "ae538ec6",
   "metadata": {},
   "outputs": [],
   "source": [
    "# function to convert a domain name to tokens represented as one-hot vectors \n",
    "\n",
    "def domain2tensor(domain):\n",
    "    tensor = torch.zeros(len(domain), 1, vocab_size)\n",
    "    for i, c in enumerate(domain):\n",
    "        tensor[ i, 0, char2token[c] ] = 1\n",
    "    return tensor"
   ]
  },
  {
   "cell_type": "code",
   "execution_count": null,
   "id": "8473a081",
   "metadata": {},
   "outputs": [],
   "source": [
    "import torchshow as ts\n",
    "# one-hot tensor of a domain, e.g.,\n",
    "x1 = domain2tensor('test.com')\n",
    "print(x1)\n",
    "x1.size()"
   ]
  },
  {
   "cell_type": "code",
   "execution_count": 61,
   "id": "5d906b44",
   "metadata": {},
   "outputs": [],
   "source": [
    "def load_test_data():\n",
    "    test_x_df = pd.read_csv('test1.txt', lineterminator='\\n', header=None, names=['domain'])\n",
    "    test_y_df = pd.read_csv('test1label.txt', lineterminator='\\n', header=None, names=['dga'])\n",
    "    return pd.concat([test_x_df, test_y_df], axis=1)"
   ]
  },
  {
   "cell_type": "code",
   "execution_count": 62,
   "id": "eab99756",
   "metadata": {},
   "outputs": [],
   "source": [
    "# Define NN architecture - Batch\n",
    "\n",
    "import torch.nn as nn\n",
    "\n",
    "class rnnModel(nn.Module):\n",
    "    def __init__(self, vocab_size, embedding_dim, num_hid_neurons, num_out, nun_hid_layers=1):\n",
    "        super(rnnModel, self).__init__()\n",
    "             \n",
    "        self.nn = nn.RNN(embedding_dim, num_hid_neurons, nun_hid_layers, batch_first=True)\n",
    "        \n",
    "        # Fully connected layer\n",
    "        self.fc = nn.Linear(num_hid_neurons, 2)\n",
    "        self.softmax = nn.Softmax(dim=1)\n",
    "        self.num_out = num_out\n",
    "        self.nun_hid_layers = nun_hid_layers\n",
    "        self.num_hid_neurons = num_hid_neurons\n",
    "\n",
    "    # define the forward function\n",
    "    def forward(self, input, hidden):\n",
    "        if hidden == None :\n",
    "            batch_size = input.size(0)\n",
    "            hidden = self.init_hidden(batch_size)\n",
    "\n",
    "        output, hidden = self.nn(input, hidden)\n",
    "        output = self.fc(output)\n",
    "        output = self.softmax(output)\n",
    "        return output, hidden\n",
    "        \n",
    "    def init_hidden(self, batch_size):\n",
    "        # This method generates the first hidden state of zeros which we'll use in the forward pass\n",
    "        hidden = torch.zeros(self.nun_hid_layers, batch_size, self.num_hid_neurons)\n",
    "        return hidden"
   ]
  },
  {
   "cell_type": "code",
   "execution_count": 63,
   "id": "d1c87f44",
   "metadata": {},
   "outputs": [],
   "source": [
    "from torch.utils.data import Dataset\n",
    "import torch.nn.functional as F\n",
    "\n",
    "class DGADataSet(Dataset) :\n",
    "    def __init__(self, dataframe, padded_size):\n",
    "        self.padded_size = padded_size\n",
    "        self.Xtr = dataframe[\"domain\"]\n",
    "        self.ytr = dataframe[\"dga\"]\n",
    "\n",
    "    def __len__(self):\n",
    "        return len(self.Xtr)\n",
    "    \n",
    "    def __getitem__(self, index) :\n",
    "        temp_text = self.Xtr.iloc[index]\n",
    "        not_padded = domain2tensor(temp_text)\n",
    "        padded = F.pad(not_padded, pad=(0,0,0,0,self.padded_size-len(not_padded),0))\n",
    "        x = self.ytr.iloc[index]\n",
    "        return padded, torch.Tensor([float(x), float(1-x)])"
   ]
  },
  {
   "cell_type": "code",
   "execution_count": 64,
   "id": "e932d870",
   "metadata": {},
   "outputs": [],
   "source": [
    "# select loss function, optimizer\n",
    "dict_size = len(char2token)\n",
    "n_hidden = 256\n",
    "\n",
    "model = rnnModel(vocab_size=vocab_size, embedding_dim=dict_size, num_hid_neurons=n_hidden, num_out=2, nun_hid_layers=2)\n",
    "\n",
    "# Define hyperparameters\n",
    "n_epochs = 50\n",
    "lr=1e-5\n",
    "\n",
    "# Define Loss, Optimizer\n",
    "criterion = nn.CrossEntropyLoss()\n",
    "optimizer = torch.optim.Adam(model.parameters(), lr=lr)"
   ]
  },
  {
   "cell_type": "code",
   "execution_count": null,
   "id": "9aeb4bb3",
   "metadata": {},
   "outputs": [],
   "source": [
    "maxlen = len(max(df.domain, key=len))\n",
    "print(\"The longest string has {} characters, total rows {}\".format(maxlen, len(df.domain)))\n",
    "batch_size = 100\n",
    "dataset = DGADataSet(df, maxlen)\n",
    "train_data_loader = torch.utils.data.DataLoader(dataset, batch_size, shuffle=True)\n",
    "losses = []\n",
    "for epoch in range(1, n_epochs + 1):\n",
    "    optimizer.zero_grad() # Clears existing gradients from previous epoch\n",
    "    for input, target in train_data_loader :\n",
    "        hidden = None\n",
    "        for i in range(input.size(1)):\n",
    "            x = input[:,i,:,:]\n",
    "            output, hidden = model(x, hidden) \n",
    "        \n",
    "        output = output.view(-1, 2)\n",
    "        loss = criterion(output, target)\n",
    "        loss.backward()\n",
    "        optimizer.step()\n",
    "        \n",
    "    losses.append(loss.item())\n",
    "    print('Epoch: {}/{}.............'.format(epoch, n_epochs), end=' ')\n",
    "    print(\"Loss: {:.4f}\".format(loss.item()))"
   ]
  }
 ],
 "metadata": {
  "kernelspec": {
   "display_name": "Python 3 (ipykernel)",
   "language": "python",
   "name": "python3"
  },
  "language_info": {
   "codemirror_mode": {
    "name": "ipython",
    "version": 3
   },
   "file_extension": ".py",
   "mimetype": "text/x-python",
   "name": "python",
   "nbconvert_exporter": "python",
   "pygments_lexer": "ipython3",
   "version": "3.11.3"
  }
 },
 "nbformat": 4,
 "nbformat_minor": 5
}
